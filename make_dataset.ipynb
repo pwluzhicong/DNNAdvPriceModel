{
 "cells": [
  {
   "cell_type": "code",
   "execution_count": 15,
   "id": "ef18646f-92be-46a9-a98b-f8ecdd155fa7",
   "metadata": {},
   "outputs": [],
   "source": [
    "import pandas as pd\n",
    "import numpy as np\n",
    "df_train = pd.read_csv(\"train_data.csv\").sort_values(by=\"eventTimestamp\")\n",
    "df_test = pd.read_csv(\"test_data.csv\")\n",
    "\n",
    "df_train.loc[:, \"day\"] = df_train.eventTimestamp // (1000*60*60*24) - 19170\n",
    "df_test.loc[:, \"day\"] = df_test.eventTimestamp // (1000*60*60*24) - 19170\n",
    "\n",
    "id_features = ['unitDisplayType', 'brandName', 'bundleId',\n",
    "       'appVersion', 'correctModelName', 'countryCode', 'deviceId',\n",
    "       'osAndVersion', 'connectionType', 'c1', 'c2', 'c3', 'c4', 'size', \n",
    "               'mediationProviderVersion', 'bidFloorPrice']\n",
    "\n",
    "numerical_features = ['sentPrice']\n",
    "\n",
    "for col in id_features:\n",
    "    df_train.loc[:, col] = df_train.loc[:, col].astype(\"category\")\n",
    "    df_test.loc[:, col] = pd.Categorical(df_test[col], categories=df_train.loc[:, col].cat.categories)\n",
    "    # df_test.loc[:, col] = df_test.loc[:, col]\n",
    "    \n",
    "df_train_id = df_train[[]].copy()\n",
    "df_test_id = df_test[[]].copy()\n",
    "for col in id_features:\n",
    "    df_train_id.loc[:, col] = df_train.loc[:, col].cat.codes\n",
    "    df_train_id.loc[df_train_id[col] == -1, col] = df_train.loc[:, col].cat.categories.size\n",
    "    \n",
    "    df_test_id.loc[:, col] = df_test.loc[:, col].cat.codes\n",
    "    df_test_id.loc[df_test_id[col] == -1, col] = df_train.loc[:, col].cat.categories.size\n",
    "    \n",
    "for col in numerical_features:\n",
    "    df_train_id.loc[:, col] = df_train.loc[:, col]\n",
    "    df_test_id.loc[:, col] = df_test.loc[:, col]\n",
    "    \n",
    "df_train_id.loc[:,'winBid'] = df_train.loc[:,'winBid']\n",
    "\n",
    "df_train_id.to_csv(\"train_dataset.csv\", index=False, header=False)\n",
    "df_test_id.to_csv(\"test_dataset.csv\", index=False, header=False)"
   ]
  },
  {
   "cell_type": "code",
   "execution_count": 8,
   "id": "e9ca322b-c412-4557-a8b1-2cdbe2ea6516",
   "metadata": {},
   "outputs": [
    {
     "data": {
      "text/plain": [
       "Index(['eventTimestamp', 'unitDisplayType', 'brandName', 'bundleId',\n",
       "       'appVersion', 'correctModelName', 'countryCode', 'deviceId',\n",
       "       'osAndVersion', 'connectionType', 'c1', 'c2', 'c3', 'c4', 'size',\n",
       "       'mediationProviderVersion', 'bidFloorPrice', 'sentPrice', 'winBid',\n",
       "       'has_won', 'day'],\n",
       "      dtype='object')"
      ]
     },
     "execution_count": 8,
     "metadata": {},
     "output_type": "execute_result"
    }
   ],
   "source": [
    "df_train.columns"
   ]
  },
  {
   "cell_type": "code",
   "execution_count": 14,
   "id": "746640e9-1c52-43fc-bff8-8383d50d4e16",
   "metadata": {},
   "outputs": [
    {
     "data": {
      "text/plain": [
       "3"
      ]
     },
     "execution_count": 14,
     "metadata": {},
     "output_type": "execute_result"
    }
   ],
   "source": [
    "df_train.loc[:, 'unitDisplayType'].astype(\"category\").cat.categories.size"
   ]
  },
  {
   "cell_type": "code",
   "execution_count": null,
   "id": "13a8e82c-5e1e-44fe-8252-a0f45615af91",
   "metadata": {},
   "outputs": [],
   "source": []
  }
 ],
 "metadata": {
  "kernelspec": {
   "display_name": "Python 3 (ipykernel)",
   "language": "python",
   "name": "python3"
  },
  "language_info": {
   "codemirror_mode": {
    "name": "ipython",
    "version": 3
   },
   "file_extension": ".py",
   "mimetype": "text/x-python",
   "name": "python",
   "nbconvert_exporter": "python",
   "pygments_lexer": "ipython3",
   "version": "3.7.7"
  }
 },
 "nbformat": 4,
 "nbformat_minor": 5
}
